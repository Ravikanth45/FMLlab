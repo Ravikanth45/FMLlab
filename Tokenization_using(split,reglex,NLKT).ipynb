{
  "nbformat": 4,
  "nbformat_minor": 0,
  "metadata": {
    "colab": {
      "provenance": [],
      "authorship_tag": "ABX9TyPzKw7fb/+U54SA9rMHcuYO",
      "include_colab_link": true
    },
    "kernelspec": {
      "name": "python3",
      "display_name": "Python 3"
    },
    "language_info": {
      "name": "python"
    }
  },
  "cells": [
    {
      "cell_type": "markdown",
      "metadata": {
        "id": "view-in-github",
        "colab_type": "text"
      },
      "source": [
        "<a href=\"https://colab.research.google.com/github/Ravikanth45/FMLlab/blob/main/Tokenization_using(split%2Creglex%2CNLKT).ipynb\" target=\"_parent\"><img src=\"https://colab.research.google.com/assets/colab-badge.svg\" alt=\"Open In Colab\"/></a>"
      ]
    },
    {
      "cell_type": "markdown",
      "source": [
        "# tokenization using SPLIT"
      ],
      "metadata": {
        "id": "fnKidZfuWU_2"
      }
    },
    {
      "cell_type": "code",
      "execution_count": 23,
      "metadata": {
        "id": "UrFBcgzzV0g5"
      },
      "outputs": [],
      "source": [
        "text=\"\"\"Well, you only need the light when it's burning low. Only miss the sun when it starts to snow. Only know you love her when you let her go. Only know you've been high when you're feeling low. Only hate the road when you're missing home. Only know you love her when you let her go\n",
        "\"\"\""
      ]
    },
    {
      "cell_type": "code",
      "source": [
        "x=text.split()\n",
        "print(x)"
      ],
      "metadata": {
        "colab": {
          "base_uri": "https://localhost:8080/"
        },
        "id": "EpMrJGqXXSVk",
        "outputId": "6e90d9e2-ea70-4dc2-8641-a3e8ae37530f"
      },
      "execution_count": 24,
      "outputs": [
        {
          "output_type": "stream",
          "name": "stdout",
          "text": [
            "['Well,', 'you', 'only', 'need', 'the', 'light', 'when', \"it's\", 'burning', 'low.', 'Only', 'miss', 'the', 'sun', 'when', 'it', 'starts', 'to', 'snow.', 'Only', 'know', 'you', 'love', 'her', 'when', 'you', 'let', 'her', 'go.', 'Only', 'know', \"you've\", 'been', 'high', 'when', \"you're\", 'feeling', 'low.', 'Only', 'hate', 'the', 'road', 'when', \"you're\", 'missing', 'home.', 'Only', 'know', 'you', 'love', 'her', 'when', 'you', 'let', 'her', 'go']\n"
          ]
        }
      ]
    },
    {
      "cell_type": "markdown",
      "source": [
        "# tokenization using regular expression"
      ],
      "metadata": {
        "id": "a_Kq1VgcXqom"
      }
    },
    {
      "cell_type": "code",
      "source": [
        "import re"
      ],
      "metadata": {
        "id": "yTYcfomvYln8"
      },
      "execution_count": 26,
      "outputs": []
    },
    {
      "cell_type": "code",
      "source": [
        "#word tokenization\n",
        "tokens = re.findall(\"[\\w']+\", text)\n",
        "print(tokens)\n",
        "print(\"No.of words : \", len(tokens))"
      ],
      "metadata": {
        "colab": {
          "base_uri": "https://localhost:8080/"
        },
        "id": "3Eu9PlB_XZ7s",
        "outputId": "a49b1c01-1ccd-4668-989e-96f07ef4b3ca"
      },
      "execution_count": 36,
      "outputs": [
        {
          "output_type": "stream",
          "name": "stdout",
          "text": [
            "['Well', 'you', 'only', 'need', 'the', 'light', 'when', \"it's\", 'burning', 'low', 'Only', 'miss', 'the', 'sun', 'when', 'it', 'starts', 'to', 'snow', 'Only', 'know', 'you', 'love', 'her', 'when', 'you', 'let', 'her', 'go', 'Only', 'know', \"you've\", 'been', 'high', 'when', \"you're\", 'feeling', 'low', 'Only', 'hate', 'the', 'road', 'when', \"you're\", 'missing', 'home', 'Only', 'know', 'you', 'love', 'her', 'when', 'you', 'let', 'her', 'go']\n",
            "No.of words :  56\n"
          ]
        }
      ]
    },
    {
      "cell_type": "code",
      "source": [
        "#sentence tokenization\n",
        "sentences = re.compile('[.?!] ').split(text)\n",
        "print(sentences)\n",
        "print(\"No.of sentences : \", len(sentences))"
      ],
      "metadata": {
        "colab": {
          "base_uri": "https://localhost:8080/"
        },
        "id": "D8mMDGIIY3PG",
        "outputId": "58d1b2a3-a7e0-4014-8b24-18d99e26b7c3"
      },
      "execution_count": 28,
      "outputs": [
        {
          "output_type": "stream",
          "name": "stdout",
          "text": [
            "[\"Well, you only need the light when it's burning low\", 'Only miss the sun when it starts to snow', 'Only know you love her when you let her go', \"Only know you've been high when you're feeling low\", \"Only hate the road when you're missing home\", 'Only know you love her when you let her go\\n']\n",
            "No.of sentences :  6\n"
          ]
        }
      ]
    },
    {
      "cell_type": "markdown",
      "source": [
        "# Tokenization using NLKT"
      ],
      "metadata": {
        "id": "gvfh9vpUbMPu"
      }
    },
    {
      "cell_type": "code",
      "source": [
        "pip install nltk"
      ],
      "metadata": {
        "colab": {
          "base_uri": "https://localhost:8080/"
        },
        "id": "30uzPzODbRCk",
        "outputId": "fa224b7a-0fb6-4e81-f1e0-1bdff334fe5e"
      },
      "execution_count": 29,
      "outputs": [
        {
          "output_type": "stream",
          "name": "stdout",
          "text": [
            "Requirement already satisfied: nltk in /usr/local/lib/python3.10/dist-packages (3.8.1)\n",
            "Requirement already satisfied: click in /usr/local/lib/python3.10/dist-packages (from nltk) (8.1.7)\n",
            "Requirement already satisfied: joblib in /usr/local/lib/python3.10/dist-packages (from nltk) (1.3.2)\n",
            "Requirement already satisfied: regex>=2021.8.3 in /usr/local/lib/python3.10/dist-packages (from nltk) (2023.12.25)\n",
            "Requirement already satisfied: tqdm in /usr/local/lib/python3.10/dist-packages (from nltk) (4.66.2)\n"
          ]
        }
      ]
    },
    {
      "cell_type": "code",
      "source": [
        "import nltk\n",
        "nltk.download('stopwords')\n",
        "nltk.download('punkt')"
      ],
      "metadata": {
        "colab": {
          "base_uri": "https://localhost:8080/"
        },
        "id": "GI82zc7QbRFc",
        "outputId": "e243c7d6-822a-48e4-9371-27573bb710f5"
      },
      "execution_count": 32,
      "outputs": [
        {
          "output_type": "stream",
          "name": "stderr",
          "text": [
            "[nltk_data] Downloading package stopwords to /root/nltk_data...\n",
            "[nltk_data]   Unzipping corpora/stopwords.zip.\n",
            "[nltk_data] Downloading package punkt to /root/nltk_data...\n",
            "[nltk_data]   Unzipping tokenizers/punkt.zip.\n"
          ]
        },
        {
          "output_type": "execute_result",
          "data": {
            "text/plain": [
              "True"
            ]
          },
          "metadata": {},
          "execution_count": 32
        }
      ]
    },
    {
      "cell_type": "code",
      "source": [
        "from nltk.tokenize import word_tokenize"
      ],
      "metadata": {
        "id": "gpos2wthboyC"
      },
      "execution_count": 33,
      "outputs": []
    },
    {
      "cell_type": "code",
      "source": [
        "word_tokens = word_tokenize(text)"
      ],
      "metadata": {
        "id": "9xLCsB5GbRPU"
      },
      "execution_count": 34,
      "outputs": []
    },
    {
      "cell_type": "code",
      "source": [
        "print(word_tokens)"
      ],
      "metadata": {
        "colab": {
          "base_uri": "https://localhost:8080/"
        },
        "id": "ISunga7cblXz",
        "outputId": "54e24551-c8e0-4f20-a0bc-a103b3d90b63"
      },
      "execution_count": 37,
      "outputs": [
        {
          "output_type": "stream",
          "name": "stdout",
          "text": [
            "['Well', ',', 'you', 'only', 'need', 'the', 'light', 'when', 'it', \"'s\", 'burning', 'low', '.', 'Only', 'miss', 'the', 'sun', 'when', 'it', 'starts', 'to', 'snow', '.', 'Only', 'know', 'you', 'love', 'her', 'when', 'you', 'let', 'her', 'go', '.', 'Only', 'know', 'you', \"'ve\", 'been', 'high', 'when', 'you', \"'re\", 'feeling', 'low', '.', 'Only', 'hate', 'the', 'road', 'when', 'you', \"'re\", 'missing', 'home', '.', 'Only', 'know', 'you', 'love', 'her', 'when', 'you', 'let', 'her', 'go']\n"
          ]
        }
      ]
    }
  ]
}