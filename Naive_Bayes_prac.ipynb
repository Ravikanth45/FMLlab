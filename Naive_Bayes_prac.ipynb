{
  "nbformat": 4,
  "nbformat_minor": 0,
  "metadata": {
    "colab": {
      "provenance": [],
      "authorship_tag": "ABX9TyOSNVZ0sSbdeCMyapLJagK7",
      "include_colab_link": true
    },
    "kernelspec": {
      "name": "python3",
      "display_name": "Python 3"
    },
    "language_info": {
      "name": "python"
    }
  },
  "cells": [
    {
      "cell_type": "markdown",
      "metadata": {
        "id": "view-in-github",
        "colab_type": "text"
      },
      "source": [
        "<a href=\"https://colab.research.google.com/github/Ravikanth45/FMLlab/blob/main/Naive_Bayes_prac.ipynb\" target=\"_parent\"><img src=\"https://colab.research.google.com/assets/colab-badge.svg\" alt=\"Open In Colab\"/></a>"
      ]
    },
    {
      "cell_type": "markdown",
      "source": [
        "# Implementing with a dataset"
      ],
      "metadata": {
        "id": "2SAuwYlzBjDc"
      }
    },
    {
      "cell_type": "code",
      "source": [
        "import pandas as pd\n",
        "import matplotlib.pyplot as plt\n",
        "import numpy as np\n",
        "from sklearn.linear_model import LogisticRegression\n",
        "from sklearn.metrics import classification_report, confusion_matrix\n",
        "from sklearn.neighbors import KNeighborsClassifier\n",
        "from sklearn.model_selection import train_test_split"
      ],
      "metadata": {
        "id": "rv841TQDaGVn"
      },
      "execution_count": 12,
      "outputs": []
    },
    {
      "cell_type": "code",
      "source": [
        "data = pd.read_csv(\"car_data.csv\")"
      ],
      "metadata": {
        "id": "MVi_50TKaHwn"
      },
      "execution_count": 2,
      "outputs": []
    },
    {
      "cell_type": "code",
      "source": [
        "# Import LabelEncoder\n",
        "from sklearn import preprocessing\n",
        "#create labelEncoder\n",
        "le = preprocessing.LabelEncoder()\n",
        "# Convert string label into numbers.\n",
        "Gen=le.fit_transform(data['Gender'].values)\n",
        "print(Gen)"
      ],
      "metadata": {
        "id": "FahvElEpx9RZ"
      },
      "execution_count": null,
      "outputs": []
    },
    {
      "cell_type": "code",
      "source": [
        "X = np.vstack((data['User ID'].values ,Gen, data['Age'].values , data['AnnualSalary'].values)).T\n",
        "y = data['Purchased'].values\n",
        "X=X.reshape(-1,4)\n",
        "X\n",
        "\n"
      ],
      "metadata": {
        "id": "DF-kCJ71aH3W",
        "colab": {
          "base_uri": "https://localhost:8080/"
        },
        "outputId": "addd4bb9-d3ad-4848-a654-ac7b3f9bcb74"
      },
      "execution_count": 13,
      "outputs": [
        {
          "output_type": "execute_result",
          "data": {
            "text/plain": [
              "array([[   385,      1,     35,  20000],\n",
              "       [   681,      1,     40,  43500],\n",
              "       [   353,      1,     49,  74000],\n",
              "       ...,\n",
              "       [   407,      0,     28, 138500],\n",
              "       [   299,      0,     48, 134000],\n",
              "       [   687,      0,     44,  73500]])"
            ]
          },
          "metadata": {},
          "execution_count": 13
        }
      ]
    },
    {
      "cell_type": "code",
      "source": [
        "X_train, X_test, y_train, y_test = train_test_split(X,y, test_size=0.2, random_state=41)"
      ],
      "metadata": {
        "id": "rlur_sT5U7Yb"
      },
      "execution_count": 14,
      "outputs": []
    },
    {
      "cell_type": "code",
      "source": [
        "#Import Gaussian Naive Bayes model\n",
        "from sklearn.naive_bayes import GaussianNB\n",
        "\n",
        "#Create a Gaussian Classifier\n",
        "model = GaussianNB()\n",
        "\n",
        "model.fit(X_train,y_train)\n",
        "\n",
        "#Predict Output\n",
        "predicted= model.predict(X_test)\n",
        "print(\"Predicted Value:\", predicted)"
      ],
      "metadata": {
        "colab": {
          "base_uri": "https://localhost:8080/"
        },
        "id": "7XzsxvZQCPQx",
        "outputId": "a8fddef2-93c8-462e-93ae-42d29805e4bd"
      },
      "execution_count": 16,
      "outputs": [
        {
          "output_type": "stream",
          "name": "stdout",
          "text": [
            "Predicted Value: [0 0 0 0 1 1 0 0 1 1 0 1 0 0 0 1 0 0 1 1 0 0 0 0 0 0 0 1 0 0 1 1 0 0 0 0 1\n",
            " 0 1 0 1 0 0 1 1 0 0 0 0 1 1 1 0 1 0 0 0 0 0 0 0 0 1 0 0 0 1 1 1 1 0 0 1 0\n",
            " 1 0 1 0 0 0 0 0 0 1 1 0 1 0 0 0 1 0 1 1 0 0 0 0 0 0 0 0 1 1 0 0 0 0 1 1 0\n",
            " 0 1 0 1 1 1 0 0 1 0 0 1 0 1 1 0 1 1 0 1 1 1 0 0 0 1 0 0 1 0 0 0 0 1 1 1 1\n",
            " 0 0 0 1 1 0 0 0 0 0 1 0 1 1 0 1 0 0 0 0 0 0 0 0 1 0 1 1 1 0 0 0 1 0 1 0 0\n",
            " 1 1 1 0 1 0 0 1 0 0 0 1 0 0 1]\n"
          ]
        }
      ]
    },
    {
      "cell_type": "code",
      "source": [
        "#for accuracy calculation\n",
        "from sklearn import metrics\n",
        "\n",
        "# Model Accuracy\n",
        "print(\"Accuracy:\",metrics.accuracy_score(y_test, predicted))"
      ],
      "metadata": {
        "id": "0VBaj2XiVZPH"
      },
      "execution_count": null,
      "outputs": []
    }
  ]
}